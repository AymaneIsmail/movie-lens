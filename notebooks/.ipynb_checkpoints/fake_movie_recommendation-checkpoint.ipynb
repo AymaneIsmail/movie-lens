{
 "cells": [
  {
   "cell_type": "code",
   "execution_count": null,
   "id": "79f92f9c",
   "metadata": {
    "vscode": {
     "languageId": "plaintext"
    }
   },
   "outputs": [],
   "source": [
    "from pyspark.sql import SparkSession\n",
    "from pyspark.ml.recommendation import ALSModel"
   ]
  }
 ],
 "metadata": {
  "language_info": {
   "name": "python"
  }
 },
 "nbformat": 4,
 "nbformat_minor": 5
}
