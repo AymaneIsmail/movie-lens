{
 "cells": [
  {
   "cell_type": "code",
   "execution_count": 1,
   "id": "79f92f9c",
   "metadata": {
    "vscode": {
     "languageId": "plaintext"
    }
   },
   "outputs": [],
   "source": [
    "from pyspark.sql import SparkSession\n",
    "from pyspark.ml.recommendation import ALSModel\n",
    "from pyspark.sql.functions import col\n",
    "import sys"
   ]
  },
  {
   "cell_type": "code",
   "execution_count": null,
   "id": "ad271a1e-4760-4533-a0de-33b6fd3863ca",
   "metadata": {},
   "outputs": [],
   "source": [
    "# ---------------- CONFIGURATION ----------------\n",
    "MODEL_PATH = \"/models/als_model\"\n",
    "MOVIE_CSV_PATH = \"hdfs:///input/movie.csv\"\n",
    "RATING_CSV_PATH = \"hdfs:///input/rating.csv\"\n",
    "TOP_N = 5  # Nombre de recommandations"
   ]
  },
  {
   "cell_type": "code",
   "execution_count": null,
   "id": "7f27c8e0-0ada-4ccc-a0c2-bae792766177",
   "metadata": {},
   "outputs": [],
   "source": [
    "# ---------------- INIT SPARK ----------------\n",
    "spark = SparkSession.builder \\\n",
    "    .appName(\"ALS Predict Single User\") \\\n",
    "    .master(\"spark://namenode:7077\") \\\n",
    "    .getOrCreate()"
   ]
  },
  {
   "cell_type": "code",
   "execution_count": null,
   "id": "de84fb2d-9e70-456e-8c2e-c2812de24152",
   "metadata": {},
   "outputs": [],
   "source": [
    "# ---------------- PARAMÈTRES CLI ----------------\n",
    "if len(sys.argv) != 4:\n",
    "    print(\"Usage: python als_predict_topn.py <userId> <movieId> <rating>\")\n",
    "    sys.exit(1)\n",
    "\n",
    "user_id = int(sys.argv[1])\n",
    "movie_id = int(sys.argv[2])\n",
    "rating_value = float(sys.argv[3])"
   ]
  },
  {
   "cell_type": "code",
   "execution_count": null,
   "id": "ac3ce058-80fb-4997-b2c5-c906731598bf",
   "metadata": {},
   "outputs": [],
   "source": [
    "# ---------------- CHARGER DONNÉES ----------------\n",
    "ratings_df = spark.read.option(\"header\", True).csv(RATING_CSV_PATH)\n",
    "movies_df = spark.read.option(\"header\", True).csv(MOVIE_CSV_PATH)\n",
    "\n",
    "ratings_df = ratings_df.select(\n",
    "    col(\"userId\").cast(\"int\"),\n",
    "    col(\"movieId\").cast(\"int\"),\n",
    "    col(\"rating\").cast(\"float\")\n",
    ")"
   ]
  },
  {
   "cell_type": "code",
   "execution_count": null,
   "id": "85f54414-3610-4702-8200-d4acf507be0d",
   "metadata": {},
   "outputs": [],
   "source": [
    "# Ajouter la nouvelle note\n",
    "new_rating = spark.createDataFrame([(user_id, movie_id, rating_value)], [\"userId\", \"movieId\", \"rating\"])\n",
    "updated_ratings_df = ratings_df.union(new_rating)"
   ]
  },
  {
   "cell_type": "code",
   "execution_count": null,
   "id": "6cdefb08-fb18-4c98-8485-8179e6739d86",
   "metadata": {},
   "outputs": [],
   "source": [
    "# ---------------- CHARGER MODÈLE ----------------\n",
    "model = ALSModel.load(MODEL_PATH)"
   ]
  }
 ],
 "metadata": {
  "kernelspec": {
   "display_name": "Python 3 (ipykernel)",
   "language": "python",
   "name": "python3"
  },
  "language_info": {
   "codemirror_mode": {
    "name": "ipython",
    "version": 3
   },
   "file_extension": ".py",
   "mimetype": "text/x-python",
   "name": "python",
   "nbconvert_exporter": "python",
   "pygments_lexer": "ipython3",
   "version": "3.10.12"
  }
 },
 "nbformat": 4,
 "nbformat_minor": 5
}
