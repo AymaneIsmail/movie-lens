{
 "cells": [
  {
   "cell_type": "code",
   "execution_count": 12,
   "id": "79f92f9c",
   "metadata": {
    "vscode": {
     "languageId": "plaintext"
    }
   },
   "outputs": [],
   "source": [
    "from pyspark.sql import SparkSession\n",
    "from pyspark.ml.recommendation import ALSModel\n",
    "from pyspark.sql.functions import col, lit\n",
    "import time\n",
    "import random"
   ]
  },
  {
   "cell_type": "code",
   "execution_count": 9,
   "id": "ad271a1e-4760-4533-a0de-33b6fd3863ca",
   "metadata": {},
   "outputs": [],
   "source": [
    "# ---------------- CONFIGURATION ----------------\n",
    "MODEL_PATH = \"/models/als\"\n",
    "MOVIE_CSV_PATH = \"hdfs:///input/movie.csv\"\n",
    "RATING_CSV_PATH = \"hdfs:///input/rating.csv\"\n",
    "TOP_N = 5  # Nombre de recommandations"
   ]
  },
  {
   "cell_type": "code",
   "execution_count": 3,
   "id": "7f27c8e0-0ada-4ccc-a0c2-bae792766177",
   "metadata": {},
   "outputs": [
    {
     "name": "stderr",
     "output_type": "stream",
     "text": [
      "Setting default log level to \"WARN\".\n",
      "To adjust logging level use sc.setLogLevel(newLevel). For SparkR, use setLogLevel(newLevel).\n",
      "25/04/30 16:54:48 WARN Client: Neither spark.yarn.jars nor spark.yarn.archive is set, falling back to uploading libraries under SPARK_HOME.\n"
     ]
    }
   ],
   "source": [
    "# ---------------- INIT SPARK ----------------\n",
    "spark = SparkSession.builder \\\n",
    "    .appName(\"FakePredictSingleUser\") \\\n",
    "    .master(\"yarn\") \\\n",
    "    .getOrCreate()"
   ]
  },
  {
   "cell_type": "code",
   "execution_count": 4,
   "id": "ac3ce058-80fb-4997-b2c5-c906731598bf",
   "metadata": {},
   "outputs": [
    {
     "name": "stdout",
     "output_type": "stream",
     "text": [
      "📥 Lecture des fichiers CSV depuis HDFS...\n"
     ]
    },
    {
     "name": "stderr",
     "output_type": "stream",
     "text": [
      "                                                                                "
     ]
    }
   ],
   "source": [
    "# ---------------- CHARGER DONNÉES ----------------\n",
    "print(\"📥 Lecture des fichiers CSV depuis HDFS...\")\n",
    "ratings_df = spark.read.csv(RATING_CSV_PATH, header=True)\n",
    "movies_df = spark.read.csv(MOVIE_CSV_PATH, header=True)\n",
    "\n",
    "ratings_df = ratings_df.select(\n",
    "    col(\"userId\").cast(\"int\"),\n",
    "    col(\"movieId\").cast(\"int\"),\n",
    "    col(\"rating\").cast(\"float\")\n",
    ")"
   ]
  },
  {
   "cell_type": "code",
   "execution_count": 6,
   "id": "7e6f9a44",
   "metadata": {},
   "outputs": [
    {
     "name": "stderr",
     "output_type": "stream",
     "text": [
      "                                                                                "
     ]
    }
   ],
   "source": [
    "users = ratings_df.select(\"userId\").distinct().rdd.flatMap(lambda x: x).collect()\n",
    "movies = movies_df.select(\"movieId\").distinct().rdd.flatMap(lambda x: x).collect()\n",
    "\n",
    "def generate_rating():\n",
    "    user_id = random.choice(users)\n",
    "    movie_id = random.choice(movies)\n",
    "    rating = round(random.uniform(0.5, 5.0), 1)  # Note entre 0.5 et 5.0\n",
    "    timestamp = int(time.time())  # Timestamp actuel\n",
    "    return {\n",
    "        'userId': user_id,\n",
    "        'movieId': movie_id,\n",
    "        'rating': rating,\n",
    "        'timestamp': timestamp\n",
    "    }"
   ]
  },
  {
   "cell_type": "code",
   "execution_count": 7,
   "id": "85f54414-3610-4702-8200-d4acf507be0d",
   "metadata": {},
   "outputs": [],
   "source": [
    "# Ajouter la nouvelle note\n",
    "random_rating = generate_rating()\n",
    "user_id = random_rating['userId']\n",
    "movie_id = random_rating['movieId']\n",
    "rating_value = random_rating['rating']\n",
    "\n",
    "# Créer un DataFrame pour la nouvelle note\n",
    "new_rating_df = spark.createDataFrame(\n",
    "    [(user_id, movie_id, rating_value)],\n",
    "    [\"userId\", \"movieId\", \"rating\"]\n",
    ")\n",
    "updated_ratings_df = ratings_df.union(new_rating_df)"
   ]
  },
  {
   "cell_type": "code",
   "execution_count": 10,
   "id": "6cdefb08-fb18-4c98-8485-8179e6739d86",
   "metadata": {},
   "outputs": [],
   "source": [
    "# ---------------- CHARGER MODÈLE ----------------\n",
    "model = ALSModel.load(MODEL_PATH)"
   ]
  },
  {
   "cell_type": "code",
   "execution_count": 13,
   "id": "402d3fed",
   "metadata": {},
   "outputs": [],
   "source": [
    "# ---------------- FILMS NON VUS ----------------\n",
    "all_movies = ratings_df.select(\"movieId\").distinct()\n",
    "rated_movies = ratings_df.filter(col(\"userId\") == user_id).select(\"movieId\")\n",
    "unrated_movies = all_movies.subtract(rated_movies)\n",
    "\n",
    "user_unrated_df = unrated_movies.withColumn(\"userId\", lit(user_id).cast(\"int\")) \\\n",
    "                                .select(\"userId\", \"movieId\")"
   ]
  },
  {
   "cell_type": "code",
   "execution_count": 14,
   "id": "a3192883",
   "metadata": {},
   "outputs": [],
   "source": [
    "# ---------------- PREDICTIONS ----------------\n",
    "predictions = model.transform(user_unrated_df).dropna(subset=[\"prediction\"])\n",
    "top_n = predictions.orderBy(col(\"prediction\").desc()).limit(TOP_N)"
   ]
  },
  {
   "cell_type": "code",
   "execution_count": 15,
   "id": "8daf15d3",
   "metadata": {},
   "outputs": [
    {
     "name": "stdout",
     "output_type": "stream",
     "text": [
      "\n",
      "🎯 Top 5 recommandations pour l'utilisateur 48500 :\n",
      "\n"
     ]
    },
    {
     "name": "stderr",
     "output_type": "stream",
     "text": [
      "                                                                                "
     ]
    },
    {
     "name": "stdout",
     "output_type": "stream",
     "text": [
      "+-----------------------------------------------------+----------+\n",
      "|title                                                |prediction|\n",
      "+-----------------------------------------------------+----------+\n",
      "|Konopielka (1982)                                    |5.269062  |\n",
      "|Rewind This! (2013)                                  |5.2578945 |\n",
      "|Craig Ferguson: A Wee Bit o' Revolution (2009)       |5.299748  |\n",
      "|Patton Oswalt: Tragedy Plus Comedy Equals Time (2014)|5.3830137 |\n",
      "|Tom Segura: Completely Normal (2014)                 |5.2831483 |\n",
      "+-----------------------------------------------------+----------+\n",
      "\n"
     ]
    }
   ],
   "source": [
    "# ---------------- AFFICHAGE ----------------\n",
    "movies_with_names = movies_df.withColumn(\"movieId\", col(\"movieId\").cast(\"int\"))\n",
    "top_n_with_titles = top_n.join(movies_with_names, on=\"movieId\").select(\"title\", \"prediction\")\n",
    "\n",
    "print(f\"\\n🎯 Top {TOP_N} recommandations pour l'utilisateur {user_id} :\\n\")\n",
    "top_n_with_titles.show(truncate=False)"
   ]
  },
  {
   "cell_type": "code",
   "execution_count": 16,
   "id": "41e62adc",
   "metadata": {},
   "outputs": [],
   "source": [
    "spark.stop()"
   ]
  }
 ],
 "metadata": {
  "kernelspec": {
   "display_name": "Python 3 (ipykernel)",
   "language": "python",
   "name": "python3"
  },
  "language_info": {
   "codemirror_mode": {
    "name": "ipython",
    "version": 3
   },
   "file_extension": ".py",
   "mimetype": "text/x-python",
   "name": "python",
   "nbconvert_exporter": "python",
   "pygments_lexer": "ipython3",
   "version": "3.10.12"
  }
 },
 "nbformat": 4,
 "nbformat_minor": 5
}
