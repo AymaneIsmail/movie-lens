{
 "cells": [
  {
   "cell_type": "code",
   "execution_count": 1,
   "id": "64d4b225",
   "metadata": {
    "vscode": {
     "languageId": "plaintext"
    }
   },
   "outputs": [],
   "source": [
    "from pyspark.sql import SparkSession\n",
    "from pyspark.ml.recommendation import ALS\n",
    "from pyspark.ml.evaluation import RegressionEvaluator\n",
    "from pyspark.sql.functions import col\n",
    "from pyspark.sql.types import StructType, StructField, IntegerType, FloatType, StringType"
   ]
  },
  {
   "cell_type": "code",
   "execution_count": 2,
   "id": "02c32090",
   "metadata": {
    "vscode": {
     "languageId": "plaintext"
    }
   },
   "outputs": [
    {
     "name": "stderr",
     "output_type": "stream",
     "text": [
      "Setting default log level to \"WARN\".\n",
      "To adjust logging level use sc.setLogLevel(newLevel). For SparkR, use setLogLevel(newLevel).\n",
      "25/05/02 11:46:38 WARN Client: Neither spark.yarn.jars nor spark.yarn.archive is set, falling back to uploading libraries under SPARK_HOME.\n"
     ]
    }
   ],
   "source": [
    "# ====================== INITIALISATION ======================\n",
    "spark = SparkSession.builder \\\n",
    "    .appName(\"TrainALSModel\") \\\n",
    "    .master(\"yarn\") \\\n",
    "    .getOrCreate()"
   ]
  },
  {
   "cell_type": "code",
   "execution_count": 3,
   "id": "acbe9a61",
   "metadata": {
    "vscode": {
     "languageId": "plaintext"
    }
   },
   "outputs": [
    {
     "name": "stdout",
     "output_type": "stream",
     "text": [
      "📥 Lecture des fichiers CSV depuis HDFS...\n"
     ]
    }
   ],
   "source": [
    "# ====================== CHARGEMENT DES DONNÉES ======================\n",
    "ratings_schema = StructType([\n",
    "    StructField(\"userId\", IntegerType(), True),\n",
    "    StructField(\"movieId\", IntegerType(), True),\n",
    "    StructField(\"rating\", FloatType(), True),\n",
    "    StructField(\"timestamp\", StringType(), True),\n",
    "])\n",
    "\n",
    "movies_schema = StructType([\n",
    "    StructField(\"movieId\", IntegerType(), True),\n",
    "    StructField(\"title\", StringType(), True),\n",
    "    StructField(\"genres\", StringType(), True),\n",
    "])\n",
    "\n",
    "print(\"📥 Lecture des fichiers CSV depuis HDFS...\")\n",
    "ratings_df = spark.read.csv(\"hdfs:///input/rating.csv\", header=True, schema=ratings_schema)\n",
    "movies_df = spark.read.csv(\"hdfs:///input/movie.csv\", header=True, schema=movies_schema)"
   ]
  },
  {
   "cell_type": "code",
   "execution_count": 4,
   "id": "62bbce19",
   "metadata": {
    "vscode": {
     "languageId": "plaintext"
    }
   },
   "outputs": [],
   "source": [
    "# ====================== NETTOYAGE ======================\n",
    "# Supprimer les lignes avec valeurs nulles\n",
    "ratings_df = ratings_df.dropna(subset=[\"userId\", \"movieId\", \"rating\"])"
   ]
  },
  {
   "cell_type": "code",
   "execution_count": 5,
   "id": "1940497a",
   "metadata": {
    "vscode": {
     "languageId": "plaintext"
    }
   },
   "outputs": [],
   "source": [
    "# ====================== DIVISION TRAIN / TEST ======================\n",
    "train_df, test_df = ratings_df.randomSplit([0.8, 0.2], seed=42)"
   ]
  },
  {
   "cell_type": "code",
   "execution_count": 6,
   "id": "242e2e00",
   "metadata": {
    "vscode": {
     "languageId": "plaintext"
    }
   },
   "outputs": [
    {
     "name": "stdout",
     "output_type": "stream",
     "text": [
      "🤖 Entraînement du modèle ALS...\n"
     ]
    },
    {
     "name": "stderr",
     "output_type": "stream",
     "text": [
      "                                                                                "
     ]
    }
   ],
   "source": [
    "# ====================== ENTRAÎNEMENT ======================\n",
    "print(\"🤖 Entraînement du modèle ALS...\")\n",
    "als = ALS(\n",
    "    userCol=\"userId\",\n",
    "    itemCol=\"movieId\",\n",
    "    ratingCol=\"rating\",\n",
    "    nonnegative=True,\n",
    "    implicitPrefs=False,\n",
    "    coldStartStrategy=\"drop\",  # pour éviter les NaN en test\n",
    "    rank=12,\n",
    "    maxIter=15,\n",
    "    regParam=0.05\n",
    ")\n",
    "\n",
    "model = als.fit(train_df)"
   ]
  },
  {
   "cell_type": "code",
   "execution_count": null,
   "id": "f2e15fb1",
   "metadata": {
    "vscode": {
     "languageId": "plaintext"
    }
   },
   "outputs": [
    {
     "name": "stdout",
     "output_type": "stream",
     "text": [
      "📊 Évaluation du modèle...\n"
     ]
    },
    {
     "name": "stderr",
     "output_type": "stream",
     "text": [
      "[Stage 74:=>  (2 + 2) / 6][Stage 108:> (0 + 0) / 10][Stage 109:> (0 + 0) / 10]"
     ]
    }
   ],
   "source": [
    "# ====================== ÉVALUATION ======================\n",
    "print(\"📊 Évaluation du modèle...\")\n",
    "predictions = model.transform(test_df)\n",
    "\n",
    "evaluator = RegressionEvaluator(\n",
    "    metricName=\"rmse\",\n",
    "    labelCol=\"rating\",\n",
    "    predictionCol=\"prediction\"\n",
    ")\n",
    "rmse = evaluator.evaluate(predictions)\n",
    "print(f\"✅ RMSE sur l'ensemble test : {rmse:.4f}\")"
   ]
  },
  {
   "cell_type": "code",
   "execution_count": null,
   "id": "9f840c1e",
   "metadata": {
    "vscode": {
     "languageId": "plaintext"
    }
   },
   "outputs": [],
   "source": [
    "# ====================== ENREGISTREMENT ======================\n",
    "print(\"💾 Sauvegarde du modèle dans HDFS (/models/als)...\")\n",
    "model.write().overwrite().save(\"hdfs:///models/als\")\n",
    "\n",
    "print(\"🎉 Modèle entraîné et sauvegardé avec succès.\")"
   ]
  },
  {
   "cell_type": "code",
   "execution_count": null,
   "id": "bcabd3e6-67b8-40e7-9191-dac5cfc522d2",
   "metadata": {},
   "outputs": [],
   "source": [
    "spark.stop()"
   ]
  }
 ],
 "metadata": {
  "kernelspec": {
   "display_name": "Python 3 (ipykernel)",
   "language": "python",
   "name": "python3"
  },
  "language_info": {
   "codemirror_mode": {
    "name": "ipython",
    "version": 3
   },
   "file_extension": ".py",
   "mimetype": "text/x-python",
   "name": "python",
   "nbconvert_exporter": "python",
   "pygments_lexer": "ipython3",
   "version": "3.10.12"
  }
 },
 "nbformat": 4,
 "nbformat_minor": 5
}
