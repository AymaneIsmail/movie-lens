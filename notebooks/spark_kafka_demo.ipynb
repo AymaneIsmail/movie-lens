{
 "cells": [
  {
   "cell_type": "code",
   "execution_count": null,
   "id": "c3d637f5",
   "metadata": {},
   "outputs": [],
   "source": [
    "from pyspark.sql import SparkSession\n",
    "\n",
    "spark = SparkSession.builder.appName(\"KafkaSparkDemo\") .master(\"local[*]\").config(\"spark.jars.packages\", \"org.apache.spark:spark-sql-kafka-0-10_2.13:3.5.1\") .getOrCreate()\n",
    "\n",
    "df = spark.readStream.format(\"kafka\").option(\"kafka.bootstrap.servers\", \"localhost:9092\").option(\"subscribe\", \"test-topic\").load()\n",
    "\n",
    "df_parsed = df.selectExpr(\"CAST(key AS STRING)\", \"CAST(value AS STRING)\")\n",
    "\n",
    "query = df_parsed.writeStream.outputMode(\"append\").format(\"console\").start()\n",
    "\n",
    "query.awaitTermination()"
   ]
  }
 ],
 "metadata": {
  "language_info": {
   "name": "python"
  }
 },
 "nbformat": 4,
 "nbformat_minor": 5
}
